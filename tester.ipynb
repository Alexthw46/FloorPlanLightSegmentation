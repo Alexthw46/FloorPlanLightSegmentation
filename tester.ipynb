{
 "cells": [
  {
   "cell_type": "code",
   "execution_count": 3,
   "outputs": [],
   "source": [
    "from code.preprocessing import imageToMap\n",
    "from code.filter import load_images_from_folder\n",
    "import os\n",
    "\n",
    "\n",
    "in_path = \"./images/sorted/\"\n",
    "out_path = './images/quadmap/'\n",
    "os.makedirs(out_path, exist_ok=True)\n",
    "imgs = load_images_from_folder(in_path)\n",
    "for img in imgs:\n",
    "    imageToMap(in_path, out_path, img)"
   ],
   "metadata": {
    "collapsed": false
   }
  },
  {
   "cell_type": "code",
   "execution_count": null,
   "outputs": [],
   "source": [
    "from shutil import copyfile\n",
    "\n",
    "in_path = \"./images/input/\"\n",
    "out_path = './images/sorted/'\n",
    "os.makedirs(out_path, exist_ok=True)\n",
    "imgs = load_images_from_folder(in_path)\n",
    "\n",
    "counter = 0\n",
    "for img in imgs:\n",
    "    copyfile(os.path.join(in_path, img), os.path.join(out_path, str(counter)+\".png\"))\n",
    "    counter = counter + 1"
   ],
   "metadata": {
    "collapsed": false
   }
  },
  {
   "cell_type": "code",
   "execution_count": 2,
   "outputs": [],
   "source": [
    "import os\n",
    "from PIL import Image\n",
    "from PIL.ImageOps import pad, grayscale, autocontrast, invert\n",
    "from code.filter import load_images_from_folder\n",
    "\n",
    "path = \"./images/sorted/\"\n",
    "#os.makedirs(path + '/grayT', exist_ok=True)\n",
    "imgs = load_images_from_folder(path)\n",
    "for img in imgs:\n",
    "    image = Image.open(os.path.join(path, img))\n",
    "    bg = Image.new('RGBA', (800,800), color = (0,0,0,0))\n",
    "    bg.paste(image, image)\n",
    "    #newImage = bg.convert('LA')\n",
    "    #display(image)\n",
    "    bg.save(path+img)\n",
    "\n"
   ],
   "metadata": {
    "collapsed": false
   }
  },
  {
   "cell_type": "code",
   "execution_count": null,
   "outputs": [],
   "source": [
    "path = \"./images/complete_floorplan/output/squared/grayT\"\n",
    "os.makedirs(path + '/uniform/', exist_ok=True)\n",
    "imgs = load_images_from_folder(path)\n",
    "for img in imgs:\n",
    "    image = Image.open(os.path.join(path, img)).convert('RGBA')\n",
    "    pixdata = image.load()\n",
    "\n",
    "    width, height = image.size\n",
    "    for y in range(height):\n",
    "        for x in range(width):\n",
    "            if pixdata[x, y] != (255, 255, 255, 255) and pixdata[x, y] != (0, 0, 0, 255) and pixdata[x, y] != (0, 0, 0, 0):\n",
    "                pixdata[x, y] = (90, 90, 90, 255)\n",
    "    image.save(path+\"/uniform/\"+img)"
   ],
   "metadata": {
    "collapsed": false
   }
  },
  {
   "cell_type": "code",
   "execution_count": null,
   "outputs": [],
   "source": [
    "path = \"./images/complete_floorplan/output/squared/grayT/uniform\"\n",
    "os.makedirs(path + '/quadmap/', exist_ok=True)\n",
    "imgs = load_images_from_folder(path)\n",
    "for img in imgs:\n",
    "    image = Image.open(os.path.join(path, img)).convert('LA')\n",
    "    pixdata = image.load()\n",
    "\n",
    "    width, height = image.size\n",
    "    for y in range(height):\n",
    "        for x in range(width):\n",
    "            if pixdata[x, y][1] == 0:\n",
    "                pixdata[x, y] = (0,255)\n",
    "            elif pixdata[x,y][0] == 0:\n",
    "                pixdata[x, y] = (1,255)\n",
    "            elif pixdata[x, y][0] == 255:\n",
    "                pixdata[x, y] = (3,255)\n",
    "            else:\n",
    "                pixdata[x, y] = (2,255)\n",
    "\n",
    "    image.save(path+\"/quadmap/\"+img)"
   ],
   "metadata": {
    "collapsed": false
   }
  },
  {
   "cell_type": "code",
   "execution_count": 2,
   "outputs": [],
   "source": [
    "\n",
    "import os\n",
    "from PIL import Image\n",
    "from PIL.ImageOps import autocontrast\n",
    "from code import filter\n",
    "path =  './images/quadmap/'\n",
    "imgs = filter.load_images_from_folder(path)\n",
    "for img in imgs[:20] :\n",
    "        image = Image.open(os.path.join(path, img))\n",
    "        image2 = Image.open(os.path.join('./images/sorted', img)).convert('RGBA')\n",
    "        bg = Image.new('RGBA', (1600,800), color = (0,0,0,0))\n",
    "        nImage = autocontrast(image.convert('L')).convert('RGBA')\n",
    "        bg.paste(image2, (0,0) ,image2)\n",
    "        bg.paste(nImage, (800,0) ,nImage)\n",
    "        bg.save('./images/test/'+img)"
   ],
   "metadata": {
    "collapsed": false
   }
  },
  {
   "cell_type": "code",
   "execution_count": null,
   "outputs": [],
   "source": [],
   "metadata": {
    "collapsed": false
   }
  }
 ],
 "metadata": {
  "kernelspec": {
   "display_name": "Python 3",
   "language": "python",
   "name": "python3"
  },
  "language_info": {
   "codemirror_mode": {
    "name": "ipython",
    "version": 2
   },
   "file_extension": ".py",
   "mimetype": "text/x-python",
   "name": "python",
   "nbconvert_exporter": "python",
   "pygments_lexer": "ipython2",
   "version": "2.7.6"
  }
 },
 "nbformat": 4,
 "nbformat_minor": 0
}
