{
 "cells": [
  {
   "cell_type": "code",
   "execution_count": null,
   "outputs": [],
   "source": [
    "from code_py.preprocessing import imageToMap\n",
    "from code_py.filter import load_images_from_folder\n",
    "import os\n",
    "\n",
    "in_path = \"../final_dataset/annotated/0-499/\"\n",
    "out_path = \"../final_dataset/annotated/maps/\"\n",
    "os.makedirs(out_path, exist_ok=True)\n",
    "imgs = load_images_from_folder(in_path)\n",
    "for img in imgs:\n",
    "    imageToMap(in_path, out_path, img)"
   ],
   "metadata": {
    "collapsed": false
   }
  },
  {
   "cell_type": "code",
   "execution_count": null,
   "outputs": [],
   "source": [
    "from shutil import copyfile\n",
    "from code_py.filter import load_images_from_folder\n",
    "\n",
    "import os\n",
    "\n",
    "in_path =  '../301-500/'\n",
    "out_path =  '../300-500/'\n",
    "os.makedirs(out_path, exist_ok=True)\n",
    "imgs = load_images_from_folder(in_path)\n",
    "\n",
    "counter = 300\n",
    "for img in imgs:\n",
    "    copyfile(os.path.join(in_path, img), os.path.join(out_path, str(counter)+\".png\"))\n",
    "    counter = counter + 1"
   ],
   "metadata": {
    "collapsed": false
   }
  },
  {
   "cell_type": "code",
   "execution_count": 1,
   "outputs": [],
   "source": [
    "from keras.utils import load_img\n",
    "import os\n",
    "from PIL import Image\n",
    "from code_py import filter\n",
    "from code_py import preprocessing\n",
    "path =  '../final_dataset/0-499/'\n",
    "mask_path = '../final_dataset/annotated/maps/'\n",
    "out_path = '../augmented_dataset/'\n",
    "os.makedirs(out_path+'train/', exist_ok=True)\n",
    "os.makedirs(path+'white/', exist_ok=True)\n",
    "os.makedirs(out_path+'val/', exist_ok=True)\n",
    "imgs = filter.load_images_from_folder(path)\n",
    "masks = filter.load_images_from_folder(mask_path)\n",
    "if False:\n",
    "    for input in imgs:\n",
    "        image = load_img(os.path.join(path, input), target_size=(800, 800), color_mode='rgba')\n",
    "        bg = Image.new(\"RGBA\", (800, 800), \"WHITE\")  # Create a white rgba background\n",
    "        bg.paste(image, (0, 0), image)  # Paste the image on the background. Go to the links given below for details.\n",
    "        image = bg.convert('RGB')\n",
    "        image.save(path + \"/white/\" + input)\n",
    "\n",
    "\n",
    "preprocessing.pregenDataAugm(imgs, masks, path, mask_path, out_path)"
   ],
   "metadata": {
    "collapsed": false
   }
  },
  {
   "cell_type": "code",
   "execution_count": null,
   "outputs": [],
   "source": [
    "\n"
   ],
   "metadata": {
    "collapsed": false
   }
  },
  {
   "cell_type": "code",
   "execution_count": null,
   "outputs": [],
   "source": [
    "\n"
   ],
   "metadata": {
    "collapsed": false
   }
  },
  {
   "cell_type": "code",
   "execution_count": null,
   "outputs": [],
   "source": [],
   "metadata": {
    "collapsed": false
   }
  }
 ],
 "metadata": {
  "kernelspec": {
   "display_name": "Python 3",
   "language": "python",
   "name": "python3"
  },
  "language_info": {
   "codemirror_mode": {
    "name": "ipython",
    "version": 2
   },
   "file_extension": ".py",
   "mimetype": "text/x-python",
   "name": "python",
   "nbconvert_exporter": "python",
   "pygments_lexer": "ipython2",
   "version": "2.7.6"
  }
 },
 "nbformat": 4,
 "nbformat_minor": 0
}
